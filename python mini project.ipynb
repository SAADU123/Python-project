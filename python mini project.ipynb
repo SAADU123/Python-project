{
 "cells": [
  {
   "cell_type": "code",
   "execution_count": 1,
   "id": "07841a4d",
   "metadata": {},
   "outputs": [
    {
     "name": "stdout",
     "output_type": "stream",
     "text": [
      "For Department  1 : total count matched is : 220 : got 10 or more employee! and validated\n",
      "For Department  2 : total count matched is : 453 : got 10 or more employee! and validated\n",
      "For Department  3 : total count got is only : 4  : it's less than 10 employee! can't validate !\n",
      "For Department  4 : total count matched is : 552 : got 10 or more employee! and validated\n",
      "For Department  5 : total count matched is : 97 : got 10 or more employee! and validated\n"
     ]
    }
   ],
   "source": [
    "#creating class and 5 different departments :\n",
    "class employee():\n",
    "    def dep1(self, dep1):\n",
    "        if dep1 == 'Finance':            \n",
    "            return 1\n",
    "        return 0\n",
    "    def dep2(self, dep2):\n",
    "        if dep2 == 'Analytics':           \n",
    "            return 1\n",
    "        return 0\n",
    "    def dep3(self, dep3):\n",
    "        if dep3 == 'Engineering':            \n",
    "            return 1\n",
    "        return 0\n",
    "    def dep4(self, dep4):\n",
    "        if dep4 == 'Technology':\n",
    "            return 1\n",
    "        return 0\n",
    "    def dep5(self, dep5):\n",
    "        if dep5 == 'Legal':\n",
    "            return 1\n",
    "        return 0\n",
    "dep1_val,dep2_val,dep3_val,dep4_val,dep5_val = 0,0,0,0,0 \n",
    "\n",
    "#opening csv file to read 5000 employee details\n",
    "with open('5000 employee details.csv','r') as f:\n",
    "    data = f.readlines()\n",
    "    for i in data[1:]:\n",
    "        l = i.split(',')\n",
    "        #object creation for class employee\n",
    "        f= employee() \n",
    "        dep1_val+=f.dep1(l[1])\n",
    "        dep2_val+=f.dep2(l[1])\n",
    "        dep3_val+=f.dep3(l[1])\n",
    "        dep4_val+=f.dep4(l[1])\n",
    "        dep5_val+=f.dep5(l[1])\n",
    "l = [dep1_val,dep2_val,dep3_val,dep4_val,dep5_val]\n",
    "count = 1\n",
    "\n",
    "#for loop used here and if/else condition also used for conditional structure :\n",
    "for i in l:\n",
    "    if i >= 10:\n",
    "        print(\"For Department \",count, \": total count matched is :\",i,\": got 10 or more employee! and validated\")\n",
    "    else:\n",
    "        print(\"For Department \",count, \": total count got is only :\",i,\" : it's less than 10 employee! can't validate !\")\n",
    "    count+=1"
   ]
  },
  {
   "cell_type": "code",
   "execution_count": null,
   "id": "14d6cb79",
   "metadata": {},
   "outputs": [],
   "source": []
  }
 ],
 "metadata": {
  "kernelspec": {
   "display_name": "Python 3",
   "language": "python",
   "name": "python3"
  },
  "language_info": {
   "codemirror_mode": {
    "name": "ipython",
    "version": 3
   },
   "file_extension": ".py",
   "mimetype": "text/x-python",
   "name": "python",
   "nbconvert_exporter": "python",
   "pygments_lexer": "ipython3",
   "version": "3.8.8"
  }
 },
 "nbformat": 4,
 "nbformat_minor": 5
}
